{
 "cells": [
  {
   "cell_type": "markdown",
   "id": "a14b4217",
   "metadata": {},
   "source": [
    "# Transformer la sirène de la police en la 5e symphonie de Beethoven"
   ]
  },
  {
   "cell_type": "markdown",
   "id": "ec113a3b",
   "metadata": {},
   "source": [
    "## Partie 1 : Sirène de la police\n",
    "✍️ **Exécuter le code suivant :**"
   ]
  },
  {
   "cell_type": "code",
   "execution_count": null,
   "id": "b3e00520",
   "metadata": {},
   "outputs": [],
   "source": [
    "from functionTp6 import *\n",
    "#====================Sirene de la police===================================\n",
    "# CREATION DES 2 NOTES DE LA SIRENE\n",
    "note1 = note(440,1,0.5)   # Fréquence: 440Hz\n",
    "                          # Amplitude: 1 \n",
    "                          # Durée 0.5s\n",
    "                            \n",
    "note2 = note(587,1,0.5)\n",
    "\n",
    "#===============ASSEMBLAGE DE LA SUITE DE NOTE=============================\n",
    "#L'argument de la fonction assemblerLesNotes s'écrit comme ceci: (note1, note2,...)\n",
    "\n",
    "sirene = assemblerLesNotes( (note1,note2,note1) ) \n",
    "\n",
    "#=================== ECOUTER LA SUITE DE NOTE===============================\n",
    "entendreLeSon(sirene)"
   ]
  },
  {
   "cell_type": "markdown",
   "id": "5fe3db01",
   "metadata": {},
   "source": [
    "✍️ **Modifier le code ci-dessus pour que l'on entende \"pon pin pon pin pon\" au lieu de pon pin pon .**"
   ]
  },
  {
   "cell_type": "markdown",
   "id": "62e6feee",
   "metadata": {},
   "source": [
    "# Partie 2 : Sirène des pompiers\n",
    "✍️ **Modifier le code ci-dessous pour que l'on entende la sirène des pompiers.** <br>\n",
    "Indices :<br>\n",
    "- Exemples de sirène de pompiers : https://www.youtube.com/watch?v=3BENoVfLTJI\n",
    "- La sirène des pompiers est composée de 2 notes qui se répète \"la si la si la...\" (voir fréquences ci-dessous) <br>\n",
    "- La sirène des pompiers est beaucoup plus lente que la sirène de la police"
   ]
  },
  {
   "cell_type": "markdown",
   "id": "4bb5146a",
   "metadata": {},
   "source": [
    " <img src=\"https://raw.githubusercontent.com/pierreghesqui/TPSon/main/frequence.png\" alt=\"Aleq\" width=\"900\" height=\"850\"/>"
   ]
  },
  {
   "cell_type": "code",
   "execution_count": null,
   "id": "8cc4a79d",
   "metadata": {},
   "outputs": [],
   "source": [
    "from functionTp6 import *\n",
    "#====================Sirene de la police===================================\n",
    "# CREATION DES 2 NOTES DE LA SIRENE\n",
    "note1 = note(440,1,0.5)     # Fréquence: 440Hz\n",
    "                          # Amplitude: 1 \n",
    "                          # Durée 0.5s\n",
    "                            \n",
    "note2 = note(587,1,0.5)\n",
    "\n",
    "#===============ASSEMBLAGE DE LA SUITE DE NOTE=============================\n",
    "#L'argument de la fonction assemblerLesNotes s'écrit comme ceci: (note1, note2,...)\n",
    "\n",
    "sirene = assemblerLesNotes( (note1,note2,note1) ) \n",
    "\n",
    "#=================== ECOUTER LA SUITE DE NOTE===============================\n",
    "entendreLeSon(sirene)"
   ]
  },
  {
   "cell_type": "markdown",
   "id": "95567110",
   "metadata": {},
   "source": [
    "# Partie 2 : Symphonie de Beethoven\n",
    "✍️ **Modifier le code ci-dessous pour que l'on entende l'introduction de la 5e symphonie de Beethoven.** <br>\n",
    "Indices:\n",
    "- Voici la partition :\n",
    "<img src=\"https://raw.githubusercontent.com/pierreghesqui/TPSon/main/Beethoven.png\" alt=\"Aleq\" width=\"1100\" height=\"1050\"/>\n",
    "- Il faut que les 4 dernières notes soient moins fortes que la 4 premières\n",
    "- Voici le son joué par un orchestre : https://youtu.be/jv2WJMVPQi8"
   ]
  },
  {
   "cell_type": "code",
   "execution_count": null,
   "id": "bfc46db2",
   "metadata": {},
   "outputs": [],
   "source": [
    "from functionTp6 import *\n",
    "#====================Sirene de la police===================================\n",
    "# CREATION DES 2 NOTES DE LA SIRENE\n",
    "note1 = note(440,1,0.5)   # Fréquence: 440Hz\n",
    "                          # Amplitude: 1 \n",
    "                          # Durée 0.5s\n",
    "                            \n",
    "note2 = note(587,1,0.5)\n",
    "\n",
    "#===============ASSEMBLAGE DE LA SUITE DE NOTE=============================\n",
    "#L'argument de la fonction assemblerLesNotes s'écrit comme ceci: (note1, note2,...)\n",
    "\n",
    "sirene = assemblerLesNotes( (note1,note2,note1) ) \n",
    "\n",
    "#=================== ECOUTER LA SUITE DE NOTE===============================\n",
    "entendreLeSon(sirene)"
   ]
  }
 ],
 "metadata": {
  "kernelspec": {
   "display_name": "Python 3 (ipykernel)",
   "language": "python",
   "name": "python3"
  },
  "language_info": {
   "codemirror_mode": {
    "name": "ipython",
    "version": 3
   },
   "file_extension": ".py",
   "mimetype": "text/x-python",
   "name": "python",
   "nbconvert_exporter": "python",
   "pygments_lexer": "ipython3",
   "version": "3.9.12"
  }
 },
 "nbformat": 4,
 "nbformat_minor": 5
}
